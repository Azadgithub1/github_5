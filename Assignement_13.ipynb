{
 "cells": [
  {
   "cell_type": "markdown",
   "id": "d88dac49-ffca-4201-ad58-d78a8d37e4bb",
   "metadata": {},
   "source": [
    "**tuple**"
   ]
  },
  {
   "cell_type": "code",
   "execution_count": 1,
   "id": "04903356-76ca-4c61-9a41-77fc7305aad8",
   "metadata": {},
   "outputs": [
    {
     "data": {
      "text/plain": [
       "tuple"
      ]
     },
     "execution_count": 1,
     "metadata": {},
     "output_type": "execute_result"
    }
   ],
   "source": [
    "# type\n",
    "l=(20,30,40,50)\n",
    "type(l)"
   ]
  },
  {
   "cell_type": "code",
   "execution_count": 5,
   "id": "b2e23b1b-deef-4f50-881c-b27c444abf3a",
   "metadata": {},
   "outputs": [
    {
     "data": {
      "text/plain": [
       "4"
      ]
     },
     "execution_count": 5,
     "metadata": {},
     "output_type": "execute_result"
    }
   ],
   "source": [
    "# len\n",
    "len(l)"
   ]
  },
  {
   "cell_type": "code",
   "execution_count": 6,
   "id": "ba6ddef8-0d98-46fc-956a-e871cf2558f7",
   "metadata": {},
   "outputs": [
    {
     "data": {
      "text/plain": [
       "50"
      ]
     },
     "execution_count": 6,
     "metadata": {},
     "output_type": "execute_result"
    }
   ],
   "source": [
    "#max\n",
    "max(l)"
   ]
  },
  {
   "cell_type": "code",
   "execution_count": 7,
   "id": "090412ed-466e-49a9-85b1-0d4fe22ae01d",
   "metadata": {},
   "outputs": [
    {
     "data": {
      "text/plain": [
       "20"
      ]
     },
     "execution_count": 7,
     "metadata": {},
     "output_type": "execute_result"
    }
   ],
   "source": [
    "# min\n",
    "min(l)"
   ]
  },
  {
   "cell_type": "code",
   "execution_count": 8,
   "id": "eb0f7b10-964f-4047-b5dc-b99c8c0dab0c",
   "metadata": {},
   "outputs": [
    {
     "data": {
      "text/plain": [
       "140"
      ]
     },
     "execution_count": 8,
     "metadata": {},
     "output_type": "execute_result"
    }
   ],
   "source": [
    "# sum\n",
    "sum(l)"
   ]
  },
  {
   "cell_type": "code",
   "execution_count": 12,
   "id": "74fc2694-cca1-4d31-8049-be6c6eca8310",
   "metadata": {},
   "outputs": [
    {
     "data": {
      "text/plain": [
       "<reversed at 0x242a2121ba0>"
      ]
     },
     "execution_count": 12,
     "metadata": {},
     "output_type": "execute_result"
    }
   ],
   "source": [
    "reversed(l)"
   ]
  },
  {
   "cell_type": "code",
   "execution_count": 10,
   "id": "8b45fb14-695c-4467-81dd-c357eb46b845",
   "metadata": {},
   "outputs": [
    {
     "data": {
      "text/plain": [
       "(20, 30, 40, 50)"
      ]
     },
     "execution_count": 10,
     "metadata": {},
     "output_type": "execute_result"
    }
   ],
   "source": [
    "l"
   ]
  },
  {
   "cell_type": "code",
   "execution_count": 18,
   "id": "94d6e5e9-9713-49b9-9a13-28a8b485da6a",
   "metadata": {},
   "outputs": [
    {
     "data": {
      "text/plain": [
       "[56, 43, 97, 60, 60]"
      ]
     },
     "execution_count": 18,
     "metadata": {},
     "output_type": "execute_result"
    }
   ],
   "source": [
    "# reverse\n",
    "l=[60,60,97,43,56]\n",
    "l.reverse()\n",
    "l"
   ]
  },
  {
   "cell_type": "code",
   "execution_count": 20,
   "id": "96f4da7f-7bfd-488b-8584-b6cd3e79a972",
   "metadata": {},
   "outputs": [
    {
     "name": "stdout",
     "output_type": "stream",
     "text": [
      "(100, 120, 60, 30, 40)\n"
     ]
    }
   ],
   "source": [
    "#reversed\n",
    "l=(40,30,60,120,100)\n",
    "reversed_l=tuple(reversed(l))\n",
    "print(reversed_l)"
   ]
  },
  {
   "cell_type": "code",
   "execution_count": 21,
   "id": "242c0f34-f06a-4301-9145-6800a1590658",
   "metadata": {},
   "outputs": [
    {
     "name": "stdout",
     "output_type": "stream",
     "text": [
      "(43, 98, 78, 68, 15)\n"
     ]
    }
   ],
   "source": [
    "# reversed\n",
    "t=(15,68,78,98,43)\n",
    "print(tuple(reversed(t)))"
   ]
  },
  {
   "cell_type": "code",
   "execution_count": 22,
   "id": "7396644d-e25c-4efd-9c9e-b502fed31831",
   "metadata": {},
   "outputs": [
    {
     "name": "stdout",
     "output_type": "stream",
     "text": [
      "(15, 43, 68, 78, 98)\n"
     ]
    }
   ],
   "source": [
    "#sorted\n",
    "print(tuple(sorted(t)))"
   ]
  },
  {
   "cell_type": "code",
   "execution_count": 26,
   "id": "0754677a-62f4-46a6-a75e-4d58c079f114",
   "metadata": {},
   "outputs": [
    {
     "name": "stdout",
     "output_type": "stream",
     "text": [
      "True\n",
      "False\n"
     ]
    }
   ],
   "source": [
    "# in\n",
    "t=(35,76,80,45,70)\n",
    "print(45 in(t))\n",
    "print(85 in(t))"
   ]
  },
  {
   "cell_type": "code",
   "execution_count": 27,
   "id": "4902d013-2bf5-4159-93bd-a3b7af72ffdd",
   "metadata": {},
   "outputs": [
    {
     "name": "stdout",
     "output_type": "stream",
     "text": [
      "False\n",
      "True\n"
     ]
    }
   ],
   "source": [
    "# not in\n",
    "print(76 not in(t))\n",
    "print(75 not in(t))"
   ]
  },
  {
   "cell_type": "code",
   "execution_count": 28,
   "id": "cb9d797e-dd13-494e-9497-393d61ce842d",
   "metadata": {},
   "outputs": [
    {
     "data": {
      "text/plain": [
       "2"
      ]
     },
     "execution_count": 28,
     "metadata": {},
     "output_type": "execute_result"
    }
   ],
   "source": [
    "# index\n",
    "t=(1,2,3,6,8,9)\n",
    "t.index(3)"
   ]
  },
  {
   "cell_type": "code",
   "execution_count": 29,
   "id": "2788ad43-be1b-4b05-9161-65231ae76c4f",
   "metadata": {},
   "outputs": [
    {
     "data": {
      "text/plain": [
       "4"
      ]
     },
     "execution_count": 29,
     "metadata": {},
     "output_type": "execute_result"
    }
   ],
   "source": [
    "t.index(8)"
   ]
  },
  {
   "cell_type": "code",
   "execution_count": 30,
   "id": "707ff5a5-86b4-451b-acee-cdd477bfb866",
   "metadata": {},
   "outputs": [
    {
     "name": "stdout",
     "output_type": "stream",
     "text": [
      "1\n",
      "2\n",
      "3\n",
      "6\n",
      "8\n",
      "9\n"
     ]
    }
   ],
   "source": [
    "# for\n",
    "for i in t:\n",
    "    print(i)"
   ]
  },
  {
   "cell_type": "code",
   "execution_count": 48,
   "id": "dd89bc96-c539-49f5-b8fb-d6fcece0edb8",
   "metadata": {},
   "outputs": [
    {
     "name": "stdout",
     "output_type": "stream",
     "text": [
      "(2, 3)\n",
      "(3, 4)\n"
     ]
    }
   ],
   "source": [
    "# slice\n",
    "t1=(1,2,3,4,5,6)\n",
    "print(t[1:3])\n",
    "print(t[2:4])     "
   ]
  },
  {
   "cell_type": "code",
   "execution_count": 50,
   "id": "a39e30b5-aab3-4eda-b4fd-7a6903d0a215",
   "metadata": {},
   "outputs": [
    {
     "name": "stdout",
     "output_type": "stream",
     "text": [
      "(5, 10, 20, 40, 6, 12, 24, 48, 10, 20, 40, 60)\n"
     ]
    }
   ],
   "source": [
    "# concatenation\n",
    "t1=(5,10,20,40)\n",
    "t2=(6,12,24,48)\n",
    "t3=(10,20,40,60)\n",
    "t4=t1+t2+t3\n",
    "print(t4)"
   ]
  },
  {
   "cell_type": "code",
   "execution_count": null,
   "id": "1bad0519-3189-4475-9f17-d546f77e2aa2",
   "metadata": {},
   "outputs": [],
   "source": []
  }
 ],
 "metadata": {
  "kernelspec": {
   "display_name": "Python 3 (ipykernel)",
   "language": "python",
   "name": "python3"
  },
  "language_info": {
   "codemirror_mode": {
    "name": "ipython",
    "version": 3
   },
   "file_extension": ".py",
   "mimetype": "text/x-python",
   "name": "python",
   "nbconvert_exporter": "python",
   "pygments_lexer": "ipython3",
   "version": "3.11.7"
  }
 },
 "nbformat": 4,
 "nbformat_minor": 5
}
