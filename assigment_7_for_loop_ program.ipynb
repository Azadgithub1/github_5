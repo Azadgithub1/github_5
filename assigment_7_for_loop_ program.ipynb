{
 "cells": [
  {
   "cell_type": "code",
   "execution_count": null,
   "id": "89baaae5-b46f-4f35-a376-d3508b99a508",
   "metadata": {},
   "outputs": [],
   "source": [
    "# solve this question for loop Game program\n",
    "# give 5 chances\n",
    "# whenever fail print the number of chances left\n",
    "\n",
    "# case-3: suppose your all chances are over \n",
    "# print you account locked try after 24 hours"
   ]
  },
  {
   "cell_type": "code",
   "execution_count": 2,
   "id": "703fdcb4-3e1b-490d-bbd0-312bb82792d6",
   "metadata": {},
   "outputs": [
    {
     "name": "stdin",
     "output_type": "stream",
     "text": [
      "Enter value of n: 23\n"
     ]
    },
    {
     "name": "stdout",
     "output_type": "stream",
     "text": [
      "you are logged in keep calm and trust on Omkar sir and keep continue your practice work with full enjoy\n"
     ]
    }
   ],
   "source": [
    "for i in range(5):\n",
    "    n=23\n",
    "    k=int(input(\"Enter value of n:\"))\n",
    "    if k==n:\n",
    "        print(\"you are logged in keep calm and trust on Omkar sir and keep continue your practice work with full enjoy\")\n",
    "        break\n",
    "    elif k!=n:\n",
    "        print(\"try again\")\n",
    "else:\n",
    "        print(\"you account locked try after 24 hours\")"
   ]
  },
  {
   "cell_type": "code",
   "execution_count": 3,
   "id": "cda7ec5f-2335-4f3e-acf3-3f171150ed6d",
   "metadata": {},
   "outputs": [
    {
     "name": "stdin",
     "output_type": "stream",
     "text": [
      "Enter value of n: 43\n"
     ]
    },
    {
     "name": "stdout",
     "output_type": "stream",
     "text": [
      "try again\n"
     ]
    },
    {
     "name": "stdin",
     "output_type": "stream",
     "text": [
      "Enter value of n: 34\n"
     ]
    },
    {
     "name": "stdout",
     "output_type": "stream",
     "text": [
      "try again\n"
     ]
    },
    {
     "name": "stdin",
     "output_type": "stream",
     "text": [
      "Enter value of n: 36\n"
     ]
    },
    {
     "name": "stdout",
     "output_type": "stream",
     "text": [
      "try again\n"
     ]
    },
    {
     "name": "stdin",
     "output_type": "stream",
     "text": [
      "Enter value of n: 39\n"
     ]
    },
    {
     "name": "stdout",
     "output_type": "stream",
     "text": [
      "try again\n"
     ]
    },
    {
     "name": "stdin",
     "output_type": "stream",
     "text": [
      "Enter value of n: 28\n"
     ]
    },
    {
     "name": "stdout",
     "output_type": "stream",
     "text": [
      "try again\n",
      "you account locked try after 24 hours\n"
     ]
    }
   ],
   "source": [
    "for i in range(5):\n",
    "    n=23\n",
    "    k=int(input(\"Enter value of n:\"))\n",
    "    if k==n:\n",
    "        print(\"you are logged in keep calm and trust on Omkar sir and keep continue your practice work with full enjoy\")\n",
    "        break\n",
    "    elif k!=n:\n",
    "        print(\"try again\")\n",
    "else:\n",
    "        print(\"you account locked try after 24 hours\")"
   ]
  },
  {
   "cell_type": "code",
   "execution_count": null,
   "id": "569d201b-c858-46fc-b0fd-a9d5ebc478bf",
   "metadata": {},
   "outputs": [],
   "source": []
  }
 ],
 "metadata": {
  "kernelspec": {
   "display_name": "Python 3 (ipykernel)",
   "language": "python",
   "name": "python3"
  },
  "language_info": {
   "codemirror_mode": {
    "name": "ipython",
    "version": 3
   },
   "file_extension": ".py",
   "mimetype": "text/x-python",
   "name": "python",
   "nbconvert_exporter": "python",
   "pygments_lexer": "ipython3",
   "version": "3.11.7"
  }
 },
 "nbformat": 4,
 "nbformat_minor": 5
}
